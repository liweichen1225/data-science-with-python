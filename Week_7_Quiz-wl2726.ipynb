{
 "cells": [
  {
   "cell_type": "markdown",
   "metadata": {},
   "source": [
    "# Week 7 Quiz\n",
    "\n",
    "## Weichen Li - wl2726"
   ]
  },
  {
   "cell_type": "code",
   "execution_count": 1,
   "metadata": {},
   "outputs": [],
   "source": [
    "# import libraries as needed\n",
    "import pandas as pd\n",
    "import numpy as np\n",
    "from sklearn import datasets"
   ]
  },
  {
   "cell_type": "code",
   "execution_count": 2,
   "metadata": {},
   "outputs": [],
   "source": [
    "# Load the example Boston Housing dataset we used in the Week 6 quiz\n",
    "# Recall that the features are stored in 'data' and target (sale price) is stored in 'target'\n",
    "boston = datasets.load_boston()"
   ]
  },
  {
   "cell_type": "code",
   "execution_count": 3,
   "metadata": {},
   "outputs": [],
   "source": [
    "# Split the data into training and test sets using train_test_split with default values\n",
    "from sklearn.model_selection import train_test_split\n",
    "X_train,X_test,y_train,y_test = train_test_split(boston.data,boston.target)"
   ]
  },
  {
   "cell_type": "code",
   "execution_count": 4,
   "metadata": {},
   "outputs": [],
   "source": [
    "# Instantiate and fit a LassoCV model on the training set\n",
    "from sklearn.linear_model import LassoCV\n",
    "lasso = LassoCV(cv=5).fit(X_train,y_train)"
   ]
  },
  {
   "cell_type": "code",
   "execution_count": 5,
   "metadata": {
    "scrolled": true
   },
   "outputs": [
    {
     "name": "stdout",
     "output_type": "stream",
     "text": [
      "lasso training set score: 0.697\n",
      "lasso test set score: 0.690\n"
     ]
    }
   ],
   "source": [
    "# Print out the the training set and test set R^2 for the trained LassoCV model to 3 decimal places\n",
    "lasso_train_score = lasso.score(X_train,y_train)\n",
    "print(f'lasso training set score: {lasso_train_score:0.3f}')\n",
    "lasso_test_score = lasso.score(X_test,y_test)\n",
    "print(f'lasso test set score: {lasso_test_score:0.3f}')"
   ]
  },
  {
   "cell_type": "code",
   "execution_count": 6,
   "metadata": {
    "scrolled": true
   },
   "outputs": [
    {
     "data": {
      "text/plain": [
       "0.7271162906134041"
      ]
     },
     "execution_count": 6,
     "metadata": {},
     "output_type": "execute_result"
    }
   ],
   "source": [
    "# Print out the alpha regularization value that was chosen by the LassoCV model\n",
    "lasso.alpha_"
   ]
  },
  {
   "cell_type": "code",
   "execution_count": 7,
   "metadata": {},
   "outputs": [],
   "source": [
    "# The Multi-Layer Perceptron included in sklearn can do regularization as well\n",
    "# Instantiate and fit an MLPRegressor model on the training set\n",
    "# Use 2 hidden layers of sizes 100 and 20 and logistic activation\n",
    "# Note: if you get conversion warnings, you'll need to increase max_iter\n",
    "from sklearn.neural_network import MLPRegressor\n",
    "mlp_2hl_sigmoid = MLPRegressor(hidden_layer_sizes=(100,20),activation='logistic',max_iter=10000).fit(X_train,y_train)"
   ]
  },
  {
   "cell_type": "code",
   "execution_count": 8,
   "metadata": {},
   "outputs": [
    {
     "name": "stdout",
     "output_type": "stream",
     "text": [
      "MLP training set score: 0.906\n",
      "MLP test set score: 0.846\n"
     ]
    }
   ],
   "source": [
    "# Print out the the training set and test set R^2 for the trained MLPRegressor model to 3 decimal places\n",
    "mlp_train_score = mlp_2hl_sigmoid.score(X_train,y_train)\n",
    "print(f'MLP training set score: {mlp_train_score:0.3f}')\n",
    "mlp_test_score = mlp_2hl_sigmoid.score(X_test,y_test)\n",
    "print(f'MLP test set score: {mlp_test_score:0.3f}')"
   ]
  },
  {
   "cell_type": "code",
   "execution_count": 9,
   "metadata": {},
   "outputs": [
    {
     "name": "stdout",
     "output_type": "stream",
     "text": [
      "Wall time: 691 ms\n",
      "Wall time: 19.8 s\n",
      "Wall time: 6.83 s\n",
      "Wall time: 3.27 s\n"
     ]
    }
   ],
   "source": [
    "# Can you find a setting of hidden layers and activation function that improves both our training and test scores?\n",
    "# Available activations are ['identity','logistic','tanh','relu']\n",
    "# Do some activations appear to converge faster than others? (can use %%time magic to print 'Wall time')\n",
    "%time mlpi = MLPRegressor(hidden_layer_sizes=(100,20),activation='identity',max_iter=10000).fit(X_train,y_train)\n",
    "%time mlpl = MLPRegressor(hidden_layer_sizes=(100,20),activation='logistic',max_iter=10000).fit(X_train,y_train)\n",
    "%time mlpt = MLPRegressor(hidden_layer_sizes=(100,20),activation='tanh',max_iter=10000).fit(X_train,y_train)\n",
    "%time mlpr = MLPRegressor(hidden_layer_sizes=(100,20),activation='relu',max_iter=10000).fit(X_train,y_train)\n",
    "# Note: Recall that in practice you should avoid re-evaluating using the same test set! Use CV instead."
   ]
  },
  {
   "cell_type": "code",
   "execution_count": 10,
   "metadata": {},
   "outputs": [
    {
     "name": "stdout",
     "output_type": "stream",
     "text": [
      "Identity train score: 0.463\n",
      "Identity test score: 0.533\n",
      "logistic train score: 0.710\n",
      "logistic test score: 0.863\n",
      "tanh train score: 0.687\n",
      "tanh test score: 0.715\n",
      "relu train score: 0.702\n",
      "relu test score: 0.745\n"
     ]
    }
   ],
   "source": [
    "from sklearn.model_selection import cross_val_score\n",
    "\n",
    "print(f'Identity train score: {cross_val_score(mlpi,X_train,y_train,cv=5).mean():0.3f}')\n",
    "print(f'Identity test score: {mlpi.score(X_test,y_test):0.3f}')\n",
    "print(f'logistic train score: {cross_val_score(mlpl,X_train,y_train,cv=5).mean():0.3f}')\n",
    "print(f'logistic test score: {mlpl.score(X_test,y_test):0.3f}')\n",
    "print(f'tanh train score: {cross_val_score(mlpt,X_train,y_train,cv=5).mean():0.3f}')\n",
    "print(f'tanh test score: {mlpt.score(X_test,y_test):0.3f}')\n",
    "print(f'relu train score: {cross_val_score(mlpr,X_train,y_train,cv=5).mean():0.3f}')\n",
    "print(f'relu test score: {mlpr.score(X_test,y_test):0.3f}')"
   ]
  }
 ],
 "metadata": {
  "kernelspec": {
   "display_name": "Python 3",
   "language": "python",
   "name": "python3"
  },
  "language_info": {
   "codemirror_mode": {
    "name": "ipython",
    "version": 3
   },
   "file_extension": ".py",
   "mimetype": "text/x-python",
   "name": "python",
   "nbconvert_exporter": "python",
   "pygments_lexer": "ipython3",
   "version": "3.7.4"
  }
 },
 "nbformat": 4,
 "nbformat_minor": 2
}
