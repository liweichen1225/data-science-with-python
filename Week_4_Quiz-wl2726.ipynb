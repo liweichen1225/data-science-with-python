{
 "cells": [
  {
   "cell_type": "markdown",
   "metadata": {},
   "source": [
    "# Week 4 Quiz\n",
    "\n",
    "## Weichen Li - wl2726\n",
    "\n",
    "### Due Sunday Feb 23 9:00am"
   ]
  },
  {
   "cell_type": "code",
   "execution_count": 2,
   "metadata": {},
   "outputs": [],
   "source": [
    "import pandas as pd\n",
    "import numpy as np\n",
    "import seaborn as sns\n",
    "\n",
    "%matplotlib inline"
   ]
  },
  {
   "cell_type": "markdown",
   "metadata": {},
   "source": [
    "We're going to calculate the 95% confidence interval for the mean value of 'magnesium' from our wine dataset."
   ]
  },
  {
   "cell_type": "code",
   "execution_count": 4,
   "metadata": {},
   "outputs": [],
   "source": [
    "# Read in ../data/wine_dataset.csv as df\n",
    "df = pd.read_csv('../data/wine_dataset.csv')"
   ]
  },
  {
   "cell_type": "code",
   "execution_count": 16,
   "metadata": {},
   "outputs": [
    {
     "data": {
      "image/png": "[encoded data removed]",
      "text/plain": [
       "<Figure size 432x288 with 1 Axes>"
      ]
     },
     "metadata": {
      "needs_background": "light"
     },
     "output_type": "display_data"
    }
   ],
   "source": [
    "# Generate a distribution plot of the magnesium column.\n",
    "mag = df.magnesium\n",
    "ax=sns.distplot(mag, rug=True)\n",
    "ax.set_xlabel('magnesium');\n",
    "ax.set_ylabel('frequency');"
   ]
  },
  {
   "cell_type": "code",
   "execution_count": 4,
   "metadata": {},
   "outputs": [
    {
     "name": "stdout",
     "output_type": "stream",
     "text": [
      "observed mean: 99.74\n"
     ]
    }
   ],
   "source": [
    "# Assign the mean value of magnesium to variable observed_mean\n",
    "observed_mean = mag.mean()\n",
    "# Print the observed mean to the hundredths place\n",
    "print(f'observed mean: {observed_mean:0.2f}')"
   ]
  },
  {
   "cell_type": "code",
   "execution_count": 5,
   "metadata": {},
   "outputs": [
    {
     "name": "stdout",
     "output_type": "stream",
     "text": [
      "sampled mean: 98.69\n"
     ]
    }
   ],
   "source": [
    "# generate a bootstrap sample (with the same number of values as the original dataset)\n",
    "#   using pandas sample (with replacement) \n",
    "#   using random_state=123\n",
    "#   assign the result to sample\n",
    "sample = mag.sample(len(mag),replace=True,random_state=123)\n",
    "# Print the mean of the sample to the hundredths place\n",
    "# Note: if the sample mean is the same as the observed mean, \n",
    "#       check, are you sampling with replacement?\n",
    "sample123_mean = sample.mean()\n",
    "print(f'sampled mean: {sample123_mean:0.2f}')"
   ]
  },
  {
   "cell_type": "code",
   "execution_count": 6,
   "metadata": {},
   "outputs": [
    {
     "data": {
      "text/plain": [
       "[100.62921348314607,\n",
       " 100.42134831460675,\n",
       " 101.20224719101124,\n",
       " 100.83707865168539,\n",
       " 100.40449438202248]"
      ]
     },
     "execution_count": 6,
     "metadata": {},
     "output_type": "execute_result"
    }
   ],
   "source": [
    "# Generate 1000 additional sample means using bootstrap sampling\n",
    "#   each sample should have the same length as the original dataframe\n",
    "#   store in the list sample_means\n",
    "#   do not use random_state for this step (your results may differ from the course solution slightly)\n",
    "sample_means = []\n",
    "for i in range(1000):\n",
    "    sample_mean = mag.sample(len(mag),replace=True,random_state=i).mean()\n",
    "    sample_means.append(sample_mean)\n",
    "# Print the first 5 values in sample_means\n",
    "sample_means[:5]"
   ]
  },
  {
   "cell_type": "code",
   "execution_count": 7,
   "metadata": {},
   "outputs": [
    {
     "data": {
      "text/plain": [
       "<matplotlib.collections.LineCollection at 0x17e3b9d75c8>"
      ]
     },
     "execution_count": 7,
     "metadata": {},
     "output_type": "execute_result"
    },
    {
     "data": {
      "image/png": "[encoded data removed]",
      "text/plain": [
       "<Figure size 432x288 with 1 Axes>"
      ]
     },
     "metadata": {
      "needs_background": "light"
     },
     "output_type": "display_data"
    }
   ],
   "source": [
    "# Plot the distribution of sample means using sns.distplot\n",
    "# Store the returned axis in ax.\n",
    "ax = sns.distplot(sample_means, kde=False)\n",
    "ax.set_xlabel('sample_means')\n",
    "ax.set_ylabel('frequency')\n",
    "\n",
    "# Add a vertical line located at the observed mean on the x-axis using ax.vlines()\n",
    "#     Use ax.get_ylim() to provide the y limits\n",
    "ax.vlines(observed_mean,*ax.get_ylim())"
   ]
  },
  {
   "cell_type": "code",
   "execution_count": 8,
   "metadata": {},
   "outputs": [
    {
     "data": {
      "text/plain": [
       "25"
      ]
     },
     "execution_count": 8,
     "metadata": {},
     "output_type": "execute_result"
    }
   ],
   "source": [
    "# To get the 95% confidence interval, we need want to retain the central 95% of our sample means.\n",
    "# To do this we need to first determine how many values must be trimmed from the ends of the sorted array.\n",
    "# For 95% CI, we want to trim 1/2 of 5% from each end.\n",
    "# Calculate 2.5% of the length of sample_means and store as trim_amount.\n",
    "trim_amount = .5*(1-.95) * 1000\n",
    "\n",
    "# We want to index into our sample means, but trim_amount is a float.\n",
    "# We must be first round this value and converted to an integer.\n",
    "# Use np.round() to round and int() to convert to int and store the result in trim_idx.\n",
    "trim_idx = int(np.round(trim_amount))\n",
    "\n",
    "# Print trim_idx\n",
    "trim_idx"
   ]
  },
  {
   "cell_type": "code",
   "execution_count": 9,
   "metadata": {},
   "outputs": [
    {
     "data": {
      "text/plain": [
       "array([ 97.69101124, 101.81460674])"
      ]
     },
     "execution_count": 9,
     "metadata": {},
     "output_type": "execute_result"
    }
   ],
   "source": [
    "# We can now print the 95% CI for our measure by indexing into the sorted array of sample means.\n",
    "# Use np.sorted() to return a sorted numpy array \n",
    "#   then use a list of the indices we want [trim_idx,-trim_idx] to index into this sorted array.\n",
    "# Store the 95% CI values as ci\n",
    "ci = np.sort(sample_means)[[trim_idx,-trim_idx]] \n",
    "\n",
    "# Print the ci values\n",
    "ci"
   ]
  },
  {
   "cell_type": "code",
   "execution_count": 10,
   "metadata": {},
   "outputs": [
    {
     "data": {
      "text/plain": [
       "<matplotlib.axes._subplots.AxesSubplot at 0x17e3d252b48>"
      ]
     },
     "execution_count": 10,
     "metadata": {},
     "output_type": "execute_result"
    },
    {
     "data": {
      "image/png": "[encoded data removed]",
      "text/plain": [
       "<Figure size 432x288 with 1 Axes>"
      ]
     },
     "metadata": {
      "needs_background": "light"
     },
     "output_type": "display_data"
    }
   ],
   "source": [
    "# We can confirm these values by using seaborns barplot function.\n",
    "# Call seaborn barplot on the magnesium column from the original dataframe\n",
    "#   and compare the 95% CI plotted there to the values we calculated\n",
    "# Capture the returned axis in x\n",
    "ax=sns.barplot(mag,\n",
    "            estimator=np.mean, #default\n",
    "            ci=95,             #default\n",
    "            n_boot=1000,        #default\n",
    "            orient='h',\n",
    "            color='c',\n",
    "           )\n",
    "ax.set_xlabel('sample_means')\n",
    "ax.set_ylabel('magnesium')\n",
    "# Modify the xaxis to zoom in between 80 and 110 using ax.set_xlim(80,110)\n",
    "ax.set_xlim(80,110)\n",
    "ax"
   ]
  }
 ],
 "metadata": {
  "kernelspec": {
   "display_name": "Python 3",
   "language": "python",
   "name": "python3"
  },
  "language_info": {
   "codemirror_mode": {
    "name": "ipython",
    "version": 3
   },
   "file_extension": ".py",
   "mimetype": "text/x-python",
   "name": "python",
   "nbconvert_exporter": "python",
   "pygments_lexer": "ipython3",
   "version": "3.7.4"
  }
 },
 "nbformat": 4,
 "nbformat_minor": 2
}
