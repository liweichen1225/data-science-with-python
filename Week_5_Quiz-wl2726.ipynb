{
 "cells": [
  {
   "cell_type": "markdown",
   "metadata": {},
   "source": [
    "# Week 5 Quiz\n",
    "\n",
    "## Weichen Li - wl2726"
   ]
  },
  {
   "cell_type": "code",
   "execution_count": 1,
   "metadata": {},
   "outputs": [],
   "source": [
    "import numpy as np\n",
    "from sklearn.model_selection import train_test_split\n",
    "from sklearn.datasets import load_breast_cancer\n",
    "from sklearn.dummy import DummyClassifier\n",
    "from sklearn.neighbors import KNeighborsClassifier\n",
    "from sklearn.model_selection import cross_val_score\n",
    "\n",
    "# to supress warnings about a change in the KNeighborsClassifier solver\n",
    "import warnings\n",
    "warnings.simplefilter(action='ignore', category=FutureWarning)"
   ]
  },
  {
   "cell_type": "code",
   "execution_count": 2,
   "metadata": {},
   "outputs": [],
   "source": [
    "# Load the sample breast_cancer dataset from Scikit-Learn\n",
    "#   returning just the X features matrix and y label vector.\n",
    "#   The target here is a binary classification task.\n",
    "#   For more information, see https://scikit-learn.org/stable/datasets/index.html#breast-cancer-dataset\n",
    "X,y = load_breast_cancer(return_X_y=True)"
   ]
  },
  {
   "cell_type": "code",
   "execution_count": 3,
   "metadata": {},
   "outputs": [],
   "source": [
    "# Split X and y into X_train,X_test,y_train,y_test \n",
    "#   using train_test_split, stratify using y, using the default test_size.\n",
    "X_train,X_test,y_train,y_test = train_test_split(X,\n",
    "                                                 y,\n",
    "                                                 test_size=.25, #default\n",
    "                                                 stratify=y)"
   ]
  },
  {
   "cell_type": "code",
   "execution_count": 4,
   "metadata": {},
   "outputs": [
    {
     "name": "stdout",
     "output_type": "stream",
     "text": [
      "mean cv accuracy: 0.54\n"
     ]
    }
   ],
   "source": [
    "# Get a baseline, mean 5-fold cross-validation accuracy score \n",
    "#   for a DummyClassifier with default parameter settings \n",
    "#   using X_train,y_train.\n",
    "\n",
    "dummy_scores =  cross_val_score(DummyClassifier(),\n",
    "                         X_train,\n",
    "                         y_train,\n",
    "                         cv=5, \n",
    "                         scoring='accuracy' )\n",
    "                                \n",
    "print(f'mean cv accuracy: {np.mean(dummy_scores):0.2f}')"
   ]
  },
  {
   "cell_type": "code",
   "execution_count": 5,
   "metadata": {},
   "outputs": [
    {
     "name": "stdout",
     "output_type": "stream",
     "text": [
      "mean cv accuracy: 0.92\n"
     ]
    }
   ],
   "source": [
    "# Get a mean, 5-fold cross-validation accuracy score \n",
    "#   for a KNeighborsClassifier model with n_neighbors=3 and metric='euclidean'\n",
    "#   using X_train,y_train.\n",
    "knn_scores = cross_val_score(KNeighborsClassifier(n_neighbors=3,metric='euclidean'),\n",
    "                         X_train,\n",
    "                         y_train,\n",
    "                         cv=5, \n",
    "                         scoring='accuracy')\n",
    "print(f'mean cv accuracy: {np.mean(knn_scores):0.2f}')"
   ]
  },
  {
   "cell_type": "code",
   "execution_count": 6,
   "metadata": {},
   "outputs": [],
   "source": [
    "# Train a KNeighborsClassifier model with the same hyperparameter settings as above\n",
    "#    on the full training set.\n",
    "knn = KNeighborsClassifier( n_neighbors=3,metric='euclidean').fit(X_train,y_train)"
   ]
  },
  {
   "cell_type": "code",
   "execution_count": 7,
   "metadata": {},
   "outputs": [
    {
     "name": "stdout",
     "output_type": "stream",
     "text": [
      "test-set accuracy: 0.94\n"
     ]
    }
   ],
   "source": [
    "# Evaluate generalization accuracy of the trained KNeighborsClassifier model on the test set.\n",
    "acc = knn.score(X_test,y_test)\n",
    "print(f'test-set accuracy: {acc:0.2f}')"
   ]
  },
  {
   "cell_type": "markdown",
   "metadata": {},
   "source": [
    "### Question: Does our KNeighborsClassifier model seem to be overfitting, underfitting or performing well and why?\n",
    "\n",
    "KNeighborsClassifier model seem to be performing well, because test-set accuracy is very high."
   ]
  },
  {
   "cell_type": "code",
   "execution_count": 11,
   "metadata": {},
   "outputs": [],
   "source": [
    "knn.predict?"
   ]
  }
 ],
 "metadata": {
  "kernelspec": {
   "display_name": "Python 3",
   "language": "python",
   "name": "python3"
  },
  "language_info": {
   "codemirror_mode": {
    "name": "ipython",
    "version": 3
   },
   "file_extension": ".py",
   "mimetype": "text/x-python",
   "name": "python",
   "nbconvert_exporter": "python",
   "pygments_lexer": "ipython3",
   "version": "3.7.4"
  }
 },
 "nbformat": 4,
 "nbformat_minor": 2
}
